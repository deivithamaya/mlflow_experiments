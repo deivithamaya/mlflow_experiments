{
 "cells": [
  {
   "cell_type": "code",
   "execution_count": 1,
   "id": "09af02c1-1ddb-4cad-b1bc-e4f6ab72124a",
   "metadata": {},
   "outputs": [
    {
     "name": "stderr",
     "output_type": "stream",
     "text": [
      "/usr/lib/python3/dist-packages/scipy/__init__.py:146: UserWarning: A NumPy version >=1.17.3 and <1.25.0 is required for this version of SciPy (detected version 1.26.3\n",
      "  warnings.warn(f\"A NumPy version >={np_minversion} and <{np_maxversion}\"\n",
      "/home/deivith/.local/lib/python3.10/site-packages/matplotlib/projections/__init__.py:63: UserWarning: Unable to import Axes3D. This may be due to multiple versions of Matplotlib being installed (e.g. as a system package and as a pip package). As a result, the 3D projection is not available.\n",
      "  warnings.warn(\"Unable to import Axes3D. This may be due to multiple versions of \"\n"
     ]
    }
   ],
   "source": [
    "import mlflow\n",
    "import shutil\n",
    "import pickle\n",
    "import os\n",
    "import numpy as np\n",
    "import pandas as pd\n",
    "import seaborn as sns\n",
    "import matplotlib.pyplot as plt\n",
    "\n",
    "from sklearn.linear_model import LinearRegression\n",
    "from sklearn.metrics import mean_squared_error\n",
    "from sklearn.model_selection import train_test_split\n",
    "from pathlib import Path\n",
    "from mlflow.pyfunc import PythonModel\n",
    "\n",
    "%matplotlib inline"
   ]
  },
  {
   "cell_type": "code",
   "execution_count": 2,
   "id": "be2efab7-06d6-48cf-8417-cdc657ee2beb",
   "metadata": {},
   "outputs": [],
   "source": [
    "#create my temporal folder\n",
    "os.makedirs(\"tmp\")"
   ]
  },
  {
   "cell_type": "code",
   "execution_count": 3,
   "id": "5130ec81-0c08-4d58-809c-c641cc02d402",
   "metadata": {},
   "outputs": [
    {
     "name": "stdout",
     "output_type": "stream",
     "text": [
      "2\n"
     ]
    }
   ],
   "source": [
    "## setup my experiment\n",
    "mlflow.set_tracking_uri(\"http://localhost:5000\")\n",
    "experiment_id = mlflow.create_experiment(\"Models exercise\",\n",
    "                                      tags={\"version\": \"v1\", \"priority\": \"P1\",\"project_name\": \"Persist artifacts\"})\n",
    "\n",
    "print(experiment_id)"
   ]
  },
  {
   "cell_type": "code",
   "execution_count": 3,
   "id": "24aa7f29-3b52-4b88-8a9d-fe247984cbb3",
   "metadata": {},
   "outputs": [
    {
     "data": {
      "text/plain": [
       "<Experiment: artifact_location='/home/deivith/Documentos/cursos/mlflow/plural/tmpServer/2', creation_time=1718056375471, experiment_id='2', last_update_time=1718056375471, lifecycle_stage='active', name='Models exercise', tags={'priority': 'P1', 'project_name': 'Persist artifacts', 'version': 'v1'}>"
      ]
     },
     "execution_count": 3,
     "metadata": {},
     "output_type": "execute_result"
    }
   ],
   "source": [
    "mlflow.set_tracking_uri(\"http://localhost:5000\")\n",
    "mlflow.set_experiment(\"Models exercise\")"
   ]
  },
  {
   "cell_type": "code",
   "execution_count": 4,
   "id": "98da51a8-a66d-40bb-8d7f-8e118ccc71e1",
   "metadata": {},
   "outputs": [
    {
     "name": "stdout",
     "output_type": "stream",
     "text": [
      "files doesn't exists\n"
     ]
    }
   ],
   "source": [
    "## Upload my data\n",
    "if os.path.exists(\"./data/dataframe.csv\"):\n",
    "    print(\"file exists\")\n",
    "    df = pd.read_csv(\"./data/data_selected.csv\")\n",
    "else:\n",
    "    print(\"files doesn't exists\")\n",
    "    data = pd.read_csv(\"./data/AmesHousing.csv\")\n",
    "    features = ['Lot Area', 'Gr Liv Area', 'Garage Area', 'Bldg Type']\n",
    "    target = ['SalePrice']\n",
    "    df = data.loc[:, features + target]"
   ]
  },
  {
   "cell_type": "code",
   "execution_count": 5,
   "id": "761969b3-a066-4cb7-91de-db4911b92e11",
   "metadata": {},
   "outputs": [],
   "source": [
    "## obtain the features names and target name\n",
    "features_columns = features = ['Lot Area', 'Gr Liv Area', 'Garage Area', 'Bldg Type']\n",
    "target_column = ['SalePrice']\n",
    "cat_features = ['Bldg Type']"
   ]
  },
  {
   "cell_type": "code",
   "execution_count": 43,
   "id": "9591762c-8359-448b-bd85-c5a5c5b7b68a",
   "metadata": {},
   "outputs": [
    {
     "name": "stdout",
     "output_type": "stream",
     "text": [
      "<class 'pandas.core.frame.DataFrame'>\n"
     ]
    }
   ],
   "source": [
    "\"\"\"\n",
    "for col, uni in df[cat_features.items():\n",
    "    print(f'col = {col}')\n",
    "    print(f'uni = {uni.unique()}')\n",
    "\"\"\"\n",
    "value = df[cat_features]\n",
    "print(type(value))"
   ]
  },
  {
   "cell_type": "code",
   "execution_count": 57,
   "id": "4dd68f4d-a3f1-4717-a0d5-8e95fd7e84ea",
   "metadata": {},
   "outputs": [
    {
     "name": "stdout",
     "output_type": "stream",
     "text": [
      "1\n",
      "2\n"
     ]
    }
   ],
   "source": [
    "ct = pd.DataFrame({\"bob\": [\"1\",\"2\"]})\n",
    "for a, b in ct.items():\n",
    "    for aa in b:\n",
    "        print(aa)"
   ]
  },
  {
   "cell_type": "code",
   "execution_count": 6,
   "id": "be967b92-c5be-4107-8fa6-b1a95b9f2a2f",
   "metadata": {},
   "outputs": [],
   "source": [
    "class WrapperLRModel(PythonModel):\n",
    "    def __init__(self, sklearn_model_features, categorical_names, model_artifact_name):\n",
    "        \"\"\"\n",
    "        categorical_names: Mapping from categorical features names to all\n",
    "        possible values, e.g.:\n",
    "        {\n",
    "            \"Bldg Type\": [\"1Fam\", \"TwnhsE\", ...]\n",
    "        }\n",
    "        \"\"\"\n",
    "        self.features_names = sklearn_model_features\n",
    "        self.categorical_names = categorical_names\n",
    "        self.model_artifact_name = model_artifact_name\n",
    "\n",
    "    def load_contest(self, context):\n",
    "        with open(context.artifacts[self.model_artifact_name], \"rb\") as m:\n",
    "            self.lr_model = pickle.load(m)\n",
    "\n",
    "    def _encode(row, colname):\n",
    "        value = row[colname]\n",
    "        row[value] = 1\n",
    "        return row\n",
    "\n",
    "    def predict(self, context, model_input):\n",
    "        model_features = model_input\n",
    "        for col, unique_values in self.categorical_names.items():\n",
    "            for value in unique_value:\n",
    "                model_features[value] = 0\n",
    "            model_features = model_features.apply(lambda row: self._encode(row, col), axis=1)\n",
    "        model_features = model_features.loc[:, self.features_names]\n",
    "        return self.lr_model.predict(model_features.to_numpy())\n",
    "            "
   ]
  },
  {
   "cell_type": "code",
   "execution_count": 7,
   "id": "b1c52cd8-2375-4107-bec8-49e341331c44",
   "metadata": {},
   "outputs": [],
   "source": [
    "def prepare_data(dataframe:pd.DataFrame) -> pd.DataFrame:\n",
    "    \"\"\"\n",
    "    input: Dataframe\n",
    "    output: Dataframe\n",
    "    \n",
    "    this function transforms the cateforical values in numeric values using one hot encoder\n",
    "    \"\"\"\n",
    "    df = dataframe\n",
    "    categorical_features_names = {}\n",
    "    for col in list(dataframe.columns):\n",
    "        if col in cat_features:\n",
    "            categorical_features_names[col] = list(df[col].unique())\n",
    "            dummies = pd.get_dummies(df[col])\n",
    "            df = pd.concat([df.drop([col], axis=1), dummies], axis=1)\n",
    "    df = df.fillna(0)\n",
    "    return df, categorical_features_names"
   ]
  },
  {
   "cell_type": "code",
   "execution_count": 12,
   "id": "31bccbfb-5e82-474b-9b8e-bc899b52c996",
   "metadata": {},
   "outputs": [],
   "source": [
    "def train_and_evaluate(dataframe:pd.DataFrame, categorical_features_names:dict) -> None:\n",
    "    \"\"\"\n",
    "    input:  DataFrame is the features\n",
    "            target is the target\n",
    "    this function trains models and evaluates them using mean squared error\n",
    "    \"\"\"\n",
    "    features = dataframe.drop(target_column, axis=1)    \n",
    "    target = dataframe.loc[:, target_column]\n",
    "    X_train, X_test, y_train, y_test = train_test_split(features.to_numpy(), target.to_numpy(), test_size=0.2, random_state=12)\n",
    "\n",
    "    #create plots\n",
    "    plot = dataframe.plot.scatter(x=0, y='SalePrice')\n",
    "    fig = plot.get_figure()\n",
    "    fig.savefig(\"tmp/plot.png\")\n",
    "    \n",
    "    #save the dataframe selected\n",
    "    dataframe.to_csv(\"tmp/dataset.csv\", index=False)\n",
    "    \n",
    "    model = LinearRegression()\n",
    "    model.fit(X_train, y_train)\n",
    "\n",
    "    #save the model\n",
    "    ## this was implemented for multiples runs but for model registration it is not necesary\n",
    "    ## but for cusmotize model i need have the serializated model\n",
    "    serialized_model = pickle.dumps(model)\n",
    "    with open(\"./tmp/model.pkl\", \"wb+\") as mo:\n",
    "        mo.write(serialized_model)\n",
    "\n",
    "    #mlflow.log_artifacts(\"tmp\")\n",
    "\n",
    "    #model registration using the sklearn flavor\n",
    "    # this was changed for customize model registration\n",
    "    #mlflow.sklearn.log_model(model, 'lr_model')\n",
    "    model_artifact_name = 'LinearRegressionModel'\n",
    "    model_artifacts = {\n",
    "        model_artifact_name:\"tmp/model.pkl\"\n",
    "    }\n",
    "\n",
    "    mlflow.pyfunc.log_model(\n",
    "        \"custom model\",\n",
    "        python_model=WrapperLRModel(sklearn_model_features=list(features.columns),\n",
    "                                    categorical_names=categorical_features_names, \n",
    "                                    model_artifact_name=model_artifact_name),\n",
    "        artifacts=model_artifacts,\n",
    "        registered_model_name=\"Model_register\",\n",
    "        alias=\"experiment\"\n",
    "        \n",
    "    )\n",
    "        \n",
    "    mlflow.log_artifacts(\"tmp\")\n",
    "\n",
    "    y_pred = model.predict(X_test)\n",
    "    error = mean_squared_error(y_test, y_pred)\n",
    "    #print(f' the error was = {error}')\n",
    "    mlflow.log_metric(\"MSE\", error)"
   ]
  },
  {
   "cell_type": "code",
   "execution_count": 11,
   "id": "45919116-59ba-48cb-8330-b7b676c3a904",
   "metadata": {},
   "outputs": [
    {
     "name": "stdout",
     "output_type": "stream",
     "text": [
      "2033dea5daae4a199efd2139fabdb8bf\n",
      "2686623332.3754606\n",
      "f787fdc3018247a18b8f3695570b1e03\n",
      "3980909422.5511055\n",
      "283bc442c5f04b898101950089f06693\n",
      "3305431659.35769\n",
      "30b09af2263a44eda6b62ebfc5392878\n",
      "2854716346.360011\n",
      "c27807a8f60b42ddac8d2129910fe061\n",
      "2662507570.636743\n"
     ]
    },
    {
     "data": {
      "image/png": "[encoded data removed]",
      "text/plain": [
       "<Figure size 432x288 with 1 Axes>"
      ]
     },
     "metadata": {
      "needs_background": "light"
     },
     "output_type": "display_data"
    },
    {
     "data": {
      "image/png": "[encoded data removed]",
      "text/plain": [
       "<Figure size 432x288 with 1 Axes>"
      ]
     },
     "metadata": {
      "needs_background": "light"
     },
     "output_type": "display_data"
    },
    {
     "data": {
      "image/png": "[encoded data removed]",
      "text/plain": [
       "<Figure size 432x288 with 1 Axes>"
      ]
     },
     "metadata": {
      "needs_background": "light"
     },
     "output_type": "display_data"
    },
    {
     "data": {
      "image/png": "[encoded data removed]",
      "text/plain": [
       "<Figure size 432x288 with 1 Axes>"
      ]
     },
     "metadata": {
      "needs_background": "light"
     },
     "output_type": "display_data"
    },
    {
     "data": {
      "image/png": "[encoded data removed]",
      "text/plain": [
       "<Figure size 432x288 with 1 Axes>"
      ]
     },
     "metadata": {
      "needs_background": "light"
     },
     "output_type": "display_data"
    }
   ],
   "source": [
    "## this code is for running multiple runs\n",
    "columns_to_drop = features_columns + [None]\n",
    "for to_drop in columns_to_drop:\n",
    "    if to_drop:\n",
    "        dropped = df.drop(to_drop, axis=1)\n",
    "    else:\n",
    "        dropped = df\n",
    "        \n",
    "    with mlflow.start_run(run_name=\"second running\") as run:\n",
    "        print(run.info.run_id)\n",
    "        prepared = prepare_data(dropped)\n",
    "        mlflow.log_param(\"dropped\", to_drop)\n",
    "        train_and_evaluate(prepared)"
   ]
  },
  {
   "cell_type": "code",
   "execution_count": 26,
   "id": "c9a05ed2-ed7b-4b15-b46b-9ddeaeecf2bb",
   "metadata": {},
   "outputs": [
    {
     "name": "stdout",
     "output_type": "stream",
     "text": [
      "Lot Area\n",
      "2686623332.3754606\n",
      "Gr Liv Area\n",
      "3980909422.5511055\n",
      "Garage Area\n",
      "3305431659.35769\n",
      "Bldg Type\n",
      "2854716346.360011\n",
      "None\n",
      "2662507570.636743\n"
     ]
    }
   ],
   "source": [
    "## one run with multiples metricss\n",
    "with mlflow.start_run(run_name=\"tercera running\") as run:\n",
    "    for to_drop in columns_to_drop:\n",
    "        if to_drop:\n",
    "            dropped = df.drop(to_drop, axis=1)\n",
    "        else:\n",
    "            dropped = df\n",
    "        \n",
    "        prepared = prepare_data(dropped)\n",
    "        print(to_drop)\n",
    "        #mlflow.log_param(\"dropped\", to_drop) i can't do this, since in a simplem experiment \n",
    "        #i can't save miltiples parameters\n",
    "        train_and_evaluate(prepared)"
   ]
  },
  {
   "cell_type": "code",
   "execution_count": 13,
   "id": "2476086e-d079-4a05-9bb7-e8e9b203f5e8",
   "metadata": {},
   "outputs": [
    {
     "ename": "TypeError",
     "evalue": "log_model() got an unexpected keyword argument 'alias'",
     "output_type": "error",
     "traceback": [
      "\u001b[0;31m---------------------------------------------------------------------------\u001b[0m",
      "\u001b[0;31mTypeError\u001b[0m                                 Traceback (most recent call last)",
      "\u001b[0;32m/tmp/ipykernel_17995/2229159673.py\u001b[0m in \u001b[0;36m<module>\u001b[0;34m\u001b[0m\n\u001b[1;32m      2\u001b[0m \u001b[0;32mwith\u001b[0m \u001b[0mmlflow\u001b[0m\u001b[0;34m.\u001b[0m\u001b[0mstart_run\u001b[0m\u001b[0;34m(\u001b[0m\u001b[0mrun_name\u001b[0m\u001b[0;34m=\u001b[0m\u001b[0;34m'fifth logging model'\u001b[0m\u001b[0;34m)\u001b[0m\u001b[0;34m:\u001b[0m\u001b[0;34m\u001b[0m\u001b[0;34m\u001b[0m\u001b[0m\n\u001b[1;32m      3\u001b[0m     \u001b[0mprepared\u001b[0m\u001b[0;34m,\u001b[0m \u001b[0mcategorical_features_names\u001b[0m \u001b[0;34m=\u001b[0m \u001b[0mprepare_data\u001b[0m\u001b[0;34m(\u001b[0m\u001b[0mdf\u001b[0m\u001b[0;34m)\u001b[0m\u001b[0;34m\u001b[0m\u001b[0;34m\u001b[0m\u001b[0m\n\u001b[0;32m----> 4\u001b[0;31m     \u001b[0mtrain_and_evaluate\u001b[0m\u001b[0;34m(\u001b[0m\u001b[0mprepared\u001b[0m\u001b[0;34m,\u001b[0m \u001b[0mcategorical_features_names\u001b[0m\u001b[0;34m)\u001b[0m\u001b[0;34m\u001b[0m\u001b[0;34m\u001b[0m\u001b[0m\n\u001b[0m",
      "\u001b[0;32m/tmp/ipykernel_17995/391885576.py\u001b[0m in \u001b[0;36mtrain_and_evaluate\u001b[0;34m(dataframe, categorical_features_names)\u001b[0m\n\u001b[1;32m     37\u001b[0m     }\n\u001b[1;32m     38\u001b[0m \u001b[0;34m\u001b[0m\u001b[0m\n\u001b[0;32m---> 39\u001b[0;31m     mlflow.pyfunc.log_model(\n\u001b[0m\u001b[1;32m     40\u001b[0m         \u001b[0;34m\"custom model\"\u001b[0m\u001b[0;34m,\u001b[0m\u001b[0;34m\u001b[0m\u001b[0;34m\u001b[0m\u001b[0m\n\u001b[1;32m     41\u001b[0m         python_model=WrapperLRModel(sklearn_model_features=list(features.columns),\n",
      "\u001b[0;32m~/.local/lib/python3.10/site-packages/mlflow/tracing/provider.py\u001b[0m in \u001b[0;36mwrapper\u001b[0;34m(*args, **kwargs)\u001b[0m\n\u001b[1;32m    200\u001b[0m             \u001b[0mdisable\u001b[0m\u001b[0;34m(\u001b[0m\u001b[0;34m)\u001b[0m\u001b[0;34m\u001b[0m\u001b[0;34m\u001b[0m\u001b[0m\n\u001b[1;32m    201\u001b[0m             \u001b[0;32mtry\u001b[0m\u001b[0;34m:\u001b[0m\u001b[0;34m\u001b[0m\u001b[0;34m\u001b[0m\u001b[0m\n\u001b[0;32m--> 202\u001b[0;31m                 \u001b[0;32mreturn\u001b[0m \u001b[0mf\u001b[0m\u001b[0;34m(\u001b[0m\u001b[0;34m*\u001b[0m\u001b[0margs\u001b[0m\u001b[0;34m,\u001b[0m \u001b[0;34m**\u001b[0m\u001b[0mkwargs\u001b[0m\u001b[0;34m)\u001b[0m\u001b[0;34m\u001b[0m\u001b[0;34m\u001b[0m\u001b[0m\n\u001b[0m\u001b[1;32m    203\u001b[0m             \u001b[0;32mfinally\u001b[0m\u001b[0;34m:\u001b[0m\u001b[0;34m\u001b[0m\u001b[0;34m\u001b[0m\u001b[0m\n\u001b[1;32m    204\u001b[0m                 \u001b[0menable\u001b[0m\u001b[0;34m(\u001b[0m\u001b[0;34m)\u001b[0m\u001b[0;34m\u001b[0m\u001b[0;34m\u001b[0m\u001b[0m\n",
      "\u001b[0;31mTypeError\u001b[0m: log_model() got an unexpected keyword argument 'alias'"
     ]
    },
    {
     "data": {
      "image/png": "[encoded data removed]",
      "text/plain": [
       "<Figure size 432x288 with 1 Axes>"
      ]
     },
     "metadata": {
      "needs_background": "light"
     },
     "output_type": "display_data"
    }
   ],
   "source": [
    "## now, i leave the multiples runs for focus on models registration\n",
    "with mlflow.start_run(run_name='fifth logging model'):\n",
    "    prepared, categorical_features_names = prepare_data(df)\n",
    "    train_and_evaluate(prepared, categorical_features_names)"
   ]
  },
  {
   "cell_type": "code",
   "execution_count": 41,
   "id": "8c49a148-c350-45d0-b556-903c7ffec93e",
   "metadata": {},
   "outputs": [],
   "source": [
    "#delete my temportal folder\n",
    "shutil.rmtree(\"tmp\")"
   ]
  },
  {
   "cell_type": "code",
   "execution_count": 17,
   "id": "d424e7f3-c735-4f87-8ece-8758902c8b0e",
   "metadata": {},
   "outputs": [
    {
     "name": "stdout",
     "output_type": "stream",
     "text": [
      "Help on function log_model in module mlflow.pyfunc:\n",
      "\n",
      "log_model(artifact_path, loader_module=None, data_path=None, code_path=None, code_paths=None, infer_code_paths=False, conda_env=None, python_model=None, artifacts=None, registered_model_name=None, signature: mlflow.models.signature.ModelSignature = None, input_example: Union[pandas.core.frame.DataFrame, numpy.ndarray, dict, list, ForwardRef('csr_matrix'), ForwardRef('csc_matrix'), str, bytes, tuple] = None, await_registration_for=300, pip_requirements=None, extra_pip_requirements=None, metadata=None, model_config=None, example_no_conversion=False, streamable=None, resources: Union[str, List[mlflow.models.resources.Resource], NoneType] = None)\n",
      "    Log a Pyfunc model with custom inference logic and optional data dependencies as an MLflow\n",
      "    artifact for the current run.\n",
      "    \n",
      "    For information about the workflows that this method supports, see :ref:`Workflows for\n",
      "    creating custom pyfunc models <pyfunc-create-custom-workflows>` and\n",
      "    :ref:`Which workflow is right for my use case? <pyfunc-create-custom-selecting-workflow>`.\n",
      "    You cannot specify the parameters for the second workflow: ``loader_module``, ``data_path``\n",
      "    and the parameters for the first workflow: ``python_model``, ``artifacts`` together.\n",
      "    \n",
      "    Args:\n",
      "        artifact_path: The run-relative artifact path to which to log the Python model.\n",
      "        loader_module: The name of the Python module that is used to load the model\n",
      "            from ``data_path``. This module must define a method with the prototype\n",
      "            ``_load_pyfunc(data_path)``. If not ``None``, this module and its\n",
      "            dependencies must be included in one of the following locations:\n",
      "    \n",
      "            - The MLflow library.\n",
      "            - Package(s) listed in the model's Conda environment, specified by\n",
      "              the ``conda_env`` parameter.\n",
      "            - One or more of the files specified by the ``code_path`` parameter.\n",
      "    \n",
      "        data_path: Path to a file or directory containing model data.\n",
      "        code_path: **Deprecated** The legacy argument for defining dependent code. This argument is\n",
      "            replaced by ``code_paths`` and will be removed in a future version of MLflow.\n",
      "        code_paths: A list of local filesystem paths to Python file dependencies (or directories\n",
      "                    containing file dependencies). These files are *prepended* to the system path when the model\n",
      "                    is loaded. Files declared as dependencies for a given model should have relative\n",
      "                    imports declared from a common root path if multiple files are defined with import dependencies\n",
      "                    between them to avoid import errors when loading the model.\n",
      "    \n",
      "                    You can leave ``code_paths`` argument unset but set ``infer_code_paths`` to ``True`` to let MLflow\n",
      "                    infer the model code paths. See ``infer_code_paths`` argument doc for details.\n",
      "    \n",
      "                    For a detailed explanation of ``code_paths`` functionality, recommended usage patterns and\n",
      "                    limitations, see the\n",
      "                    `code_paths usage guide <https://mlflow.org/docs/latest/model/dependencies.html?highlight=code_paths#saving-extra-code-with-an-mlflow-model>`_.\n",
      "        infer_code_paths: If set to ``True``, MLflow automatically infers model code paths. The inferred\n",
      "                                      code path files only include necessary python module files. Only python code files\n",
      "                                      under current working directory are automatically inferrable. Default value is\n",
      "                                      ``False``.\n",
      "    \n",
      "                          .. warning::\n",
      "                              Please ensure that the custom python module code does not contain sensitive data such as\n",
      "                              credential token strings, otherwise they might be included in the automatic inferred code\n",
      "                              path files and be logged to MLflow artifact repository.\n",
      "    \n",
      "                              If your custom python module depends on non-python files (e.g. a JSON file) with a relative\n",
      "                              path to the module code file path, the non-python files can't be automatically inferred as the\n",
      "                              code path file. To address this issue, you should put all used non-python files outside\n",
      "                              your custom code directory.\n",
      "    \n",
      "                              If a python code file is loaded as the python ``__main__`` module, then this code file can't be\n",
      "                              inferred as the code path file. If your model depends on classes / functions defined in\n",
      "                              ``__main__`` module, you should use `cloudpickle` to dump your model instance in order to pickle\n",
      "                              classes / functions in ``__main__``.\n",
      "    \n",
      "                          .. Note:: Experimental: This parameter may change or be removed in a future release without warning.\n",
      "        conda_env: Either a dictionary representation of a Conda environment or the path to a conda\n",
      "                   environment yaml file. If provided, this describes the environment this model should be run in.\n",
      "                   At a minimum, it should specify the dependencies contained in :func:`get_default_conda_env()`.\n",
      "                   If ``None``, a conda environment with pip requirements inferred by\n",
      "                   :func:`mlflow.models.infer_pip_requirements` is added\n",
      "                   to the model. If the requirement inference fails, it falls back to using\n",
      "                   :func:`get_default_pip_requirements`. pip requirements from ``conda_env`` are written to a pip\n",
      "                   ``requirements.txt`` file and the full conda environment is written to ``conda.yaml``.\n",
      "                   The following is an *example* dictionary representation of a conda environment::\n",
      "    \n",
      "                       {\n",
      "                           \"name\": \"mlflow-env\",\n",
      "                           \"channels\": [\"conda-forge\"],\n",
      "                           \"dependencies\": [\n",
      "                               \"python=3.8.15\",\n",
      "                               {\n",
      "                                   \"pip\": [\n",
      "                                       \"scikit-learn==x.y.z\"\n",
      "                                   ],\n",
      "                               },\n",
      "                           ],\n",
      "                       }\n",
      "        python_model:\n",
      "            An instance of a subclass of :class:`~PythonModel` or a callable object with a single\n",
      "            argument (see the examples below). The passed-in object is serialized using the\n",
      "            CloudPickle library. Any dependencies of the class should be included in one of the\n",
      "            following locations:\n",
      "    \n",
      "            - The MLflow library.\n",
      "            - Package(s) listed in the model's Conda environment, specified by the ``conda_env``\n",
      "              parameter.\n",
      "            - One or more of the files specified by the ``code_path`` parameter.\n",
      "    \n",
      "            Note: If the class is imported from another module, as opposed to being defined in the\n",
      "            ``__main__`` scope, the defining module should also be included in one of the listed\n",
      "            locations.\n",
      "    \n",
      "            **Examples**\n",
      "    \n",
      "            Class model\n",
      "    \n",
      "            .. code-block:: python\n",
      "    \n",
      "                from typing import List\n",
      "                import mlflow\n",
      "    \n",
      "    \n",
      "                class MyModel(mlflow.pyfunc.PythonModel):\n",
      "                    def predict(self, context, model_input: List[str], params=None) -> List[str]:\n",
      "                        return [i.upper() for i in model_input]\n",
      "    \n",
      "    \n",
      "                with mlflow.start_run():\n",
      "                    model_info = mlflow.pyfunc.log_model(\n",
      "                        artifact_path=\"model\",\n",
      "                        python_model=MyModel(),\n",
      "                    )\n",
      "    \n",
      "    \n",
      "                loaded_model = mlflow.pyfunc.load_model(model_uri=model_info.model_uri)\n",
      "                print(loaded_model.predict([\"a\", \"b\", \"c\"]))  # -> [\"A\", \"B\", \"C\"]\n",
      "    \n",
      "            Functional model\n",
      "    \n",
      "            .. note::\n",
      "                Experimental: Functional model support is experimental and may change or be removed\n",
      "                in a future release without warning.\n",
      "    \n",
      "            .. code-block:: python\n",
      "    \n",
      "                from typing import List\n",
      "                import mlflow\n",
      "    \n",
      "    \n",
      "                def predict(model_input: List[str]) -> List[str]:\n",
      "                    return [i.upper() for i in model_input]\n",
      "    \n",
      "    \n",
      "                with mlflow.start_run():\n",
      "                    model_info = mlflow.pyfunc.log_model(\n",
      "                        artifact_path=\"model\", python_model=predict, input_example=[\"a\"]\n",
      "                    )\n",
      "    \n",
      "    \n",
      "                loaded_model = mlflow.pyfunc.load_model(model_uri=model_info.model_uri)\n",
      "                print(loaded_model.predict([\"a\", \"b\", \"c\"]))  # -> [\"A\", \"B\", \"C\"]\n",
      "    \n",
      "            If the `predict` method or function has type annotations, MLflow automatically\n",
      "            constructs a model signature based on the type annotations (unless the ``signature``\n",
      "            argument is explicitly specified), and converts the input value to the specified type\n",
      "            before passing it to the function. Currently, the following type annotations are\n",
      "            supported:\n",
      "    \n",
      "                - ``List[str]``\n",
      "                - ``List[Dict[str, str]]``\n",
      "    \n",
      "        artifacts: A dictionary containing ``<name, artifact_uri>`` entries. Remote artifact URIs\n",
      "            are resolved to absolute filesystem paths, producing a dictionary of\n",
      "            ``<name, absolute_path>`` entries. ``python_model`` can reference these\n",
      "            resolved entries as the ``artifacts`` property of the ``context`` parameter\n",
      "            in :func:`PythonModel.load_context() <mlflow.pyfunc.PythonModel.load_context>`\n",
      "            and :func:`PythonModel.predict() <mlflow.pyfunc.PythonModel.predict>`.\n",
      "            For example, consider the following ``artifacts`` dictionary::\n",
      "    \n",
      "                {\"my_file\": \"s3://my-bucket/path/to/my/file\"}\n",
      "    \n",
      "            In this case, the ``\"my_file\"`` artifact is downloaded from S3. The\n",
      "            ``python_model`` can then refer to ``\"my_file\"`` as an absolute filesystem\n",
      "            path via ``context.artifacts[\"my_file\"]``.\n",
      "    \n",
      "            If ``None``, no artifacts are added to the model.\n",
      "        registered_model_name: This argument may change or be removed in a\n",
      "            future release without warning. If given, create a model\n",
      "            version under ``registered_model_name``, also creating a\n",
      "            registered model if one with the given name does not exist.\n",
      "    \n",
      "        signature: :py:class:`ModelSignature <mlflow.models.ModelSignature>`\n",
      "            describes model input and output :py:class:`Schema <mlflow.types.Schema>`.\n",
      "            The model signature can be :py:func:`inferred <mlflow.models.infer_signature>`\n",
      "            from datasets with valid model input (e.g. the training dataset with target\n",
      "            column omitted) and valid model output (e.g. model predictions generated on\n",
      "            the training dataset), for example:\n",
      "    \n",
      "            .. code-block:: python\n",
      "    \n",
      "                from mlflow.models import infer_signature\n",
      "    \n",
      "                train = df.drop_column(\"target_label\")\n",
      "                predictions = ...  # compute model predictions\n",
      "                signature = infer_signature(train, predictions)\n",
      "    \n",
      "        input_example: one or several instances of valid model input. The input example is used\n",
      "                       as a hint of what data to feed the model. It will be converted to a Pandas\n",
      "                       DataFrame and then serialized to json using the Pandas split-oriented\n",
      "                       format, or a numpy array where the example will be serialized to json\n",
      "                       by converting it to a list. Bytes are base64-encoded. When the ``signature`` parameter is\n",
      "                       ``None``, the input example is used to infer a model signature.\n",
      "        await_registration_for: Number of seconds to wait for the model version to finish\n",
      "            being created and is in ``READY`` status. By default, the function\n",
      "            waits for five minutes. Specify 0 or None to skip waiting.\n",
      "        pip_requirements: Either an iterable of pip requirement strings\n",
      "                          (e.g. ``[\"scikit-learn\", \"-r requirements.txt\", \"-c constraints.txt\"]``) or the string path to\n",
      "                          a pip requirements file on the local filesystem (e.g. ``\"requirements.txt\"``). If provided, this\n",
      "                          describes the environment this model should be run in. If ``None``, a default list of requirements\n",
      "                          is inferred by :func:`mlflow.models.infer_pip_requirements` from the current software environment.\n",
      "                          If the requirement inference fails, it falls back to using :func:`get_default_pip_requirements`.\n",
      "                          Both requirements and constraints are automatically parsed and written to ``requirements.txt`` and\n",
      "                          ``constraints.txt`` files, respectively, and stored as part of the model. Requirements are also\n",
      "                          written to the ``pip`` section of the model's conda environment (``conda.yaml``) file.\n",
      "        extra_pip_requirements: Either an iterable of pip\n",
      "                                requirement strings\n",
      "                                (e.g. ``[\"pandas\", \"-r requirements.txt\", \"-c constraints.txt\"]``) or the string path to\n",
      "                                a pip requirements file on the local filesystem (e.g. ``\"requirements.txt\"``). If provided, this\n",
      "                                describes additional pip requirements that are appended to a default set of pip requirements\n",
      "                                generated automatically based on the user's current software environment. Both requirements and\n",
      "                                constraints are automatically parsed and written to ``requirements.txt`` and ``constraints.txt``\n",
      "                                files, respectively, and stored as part of the model. Requirements are also written to the ``pip``\n",
      "                                section of the model's conda environment (``conda.yaml``) file.\n",
      "    \n",
      "                                .. warning::\n",
      "                                    The following arguments can't be specified at the same time:\n",
      "    \n",
      "                                    - ``conda_env``\n",
      "                                    - ``pip_requirements``\n",
      "                                    - ``extra_pip_requirements``\n",
      "    \n",
      "                                `This example <https://github.com/mlflow/mlflow/blob/master/examples/pip_requirements/pip_requirements.py>`_ demonstrates how to specify pip requirements using\n",
      "                                ``pip_requirements`` and ``extra_pip_requirements``.\n",
      "        metadata: Custom metadata dictionary passed to the model and stored in the MLmodel file.\n",
      "    \n",
      "        model_config: The model configuration to apply to the model. This configuration\n",
      "            is available during model loading.\n",
      "    \n",
      "            .. Note:: Experimental: This parameter may change or be removed in a future\n",
      "                                    release without warning.\n",
      "        example_no_conversion: If ``True``, the input example will not be converted to a Pandas DataFrame\n",
      "                               format when saving. This is useful when the model expects a non-DataFrame input and the\n",
      "                               input example could be passed directly to the model. Defaults to ``False`` for backwards\n",
      "                               compatibility.\n",
      "        resources: A list of model resources or a resources.yaml file containing a list of\n",
      "                    resources required to serve the model.\n",
      "    \n",
      "            .. Note:: Experimental: This parameter may change or be removed in a future\n",
      "                                    release without warning.\n",
      "    \n",
      "    \n",
      "        streamable: A boolean value indicating if the model supports streaming prediction,\n",
      "                    If None, MLflow will try to inspect if the model supports streaming\n",
      "                    by checking if `predict_stream` method exists. Default None.\n",
      "    \n",
      "    Returns:\n",
      "        A :py:class:`ModelInfo <mlflow.models.model.ModelInfo>` instance that contains the\n",
      "        metadata of the logged model.\n",
      "\n"
     ]
    }
   ],
   "source": [
    "help(mlflow.pyfunc.log_model)"
   ]
  }
 ],
 "metadata": {
  "kernelspec": {
   "display_name": "Python 3 (ipykernel)",
   "language": "python",
   "name": "python3"
  },
  "language_info": {
   "codemirror_mode": {
    "name": "ipython",
    "version": 3
   },
   "file_extension": ".py",
   "mimetype": "text/x-python",
   "name": "python",
   "nbconvert_exporter": "python",
   "pygments_lexer": "ipython3",
   "version": "3.10.12"
  }
 },
 "nbformat": 4,
 "nbformat_minor": 5
}
